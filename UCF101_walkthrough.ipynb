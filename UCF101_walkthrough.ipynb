{
 "cells": [
  {
   "cell_type": "markdown",
   "id": "cd779e04-a3f4-4151-9895-4d71171758ec",
   "metadata": {},
   "source": [
    "# Human Motion Prediction"
   ]
  },
  {
   "cell_type": "markdown",
   "id": "e70fe1b9-5088-4ff2-82f0-a44774b0c335",
   "metadata": {},
   "source": [
    "Source: \n",
    "https://www.kaggle.com/code/harikishantk/human-motion-prediction-with-cnn-lstm-model"
   ]
  },
  {
   "cell_type": "code",
   "execution_count": 1,
   "id": "2451eac9-1218-41b9-8266-3bf4d091f635",
   "metadata": {
    "tags": []
   },
   "outputs": [
    {
     "name": "stderr",
     "output_type": "stream",
     "text": [
      "/home/faiga/miniconda3/envs/video/lib/python3.10/site-packages/tqdm/auto.py:22: TqdmWarning: IProgress not found. Please update jupyter and ipywidgets. See https://ipywidgets.readthedocs.io/en/stable/user_install.html\n",
      "  from .autonotebook import tqdm as notebook_tqdm\n"
     ]
    }
   ],
   "source": [
    "import numpy as np\n",
    "import pandas as pd\n",
    "import os\n",
    "import matplotlib.pyplot as plt\n",
    "\n",
    "from tqdm import tqdm\n",
    "import cv2\n",
    "from sklearn.model_selection import train_test_split\n",
    "from sklearn.metrics import accuracy_score, confusion_matrix\n",
    "\n",
    "import itertools\n",
    "\n",
    "from torchvision.datasets import UCF101\n",
    "\n",
    "\n",
    "os.environ['TF_CPP_MIN_LOG_LEVEL'] = '3'\n"
   ]
  },
  {
   "cell_type": "code",
   "execution_count": 4,
   "id": "585dab43-f964-4e16-b7ad-24e642a8d897",
   "metadata": {
    "tags": []
   },
   "outputs": [
    {
     "ename": "FileNotFoundError",
     "evalue": "[Errno 2] No such file or directory: '../data/UCF101'",
     "output_type": "error",
     "traceback": [
      "\u001b[0;31m---------------------------------------------------------------------------\u001b[0m",
      "\u001b[0;31mFileNotFoundError\u001b[0m                         Traceback (most recent call last)",
      "Cell \u001b[0;32mIn[4], line 1\u001b[0m\n\u001b[0;32m----> 1\u001b[0m UCF101(root \u001b[39m=\u001b[39;49m \u001b[39m'\u001b[39;49m\u001b[39m../data/UCF101\u001b[39;49m\u001b[39m'\u001b[39;49m, annotation_path \u001b[39m=\u001b[39;49m \u001b[39m'\u001b[39;49m\u001b[39m../data/UCF101/ucfTrainTestlist\u001b[39;49m\u001b[39m'\u001b[39;49m, frames_per_clip \u001b[39m=\u001b[39;49m \u001b[39m16\u001b[39;49m )\n",
      "File \u001b[0;32m~/miniconda3/envs/video/lib/python3.10/site-packages/torchvision/datasets/ucf101.py:79\u001b[0m, in \u001b[0;36mUCF101.__init__\u001b[0;34m(self, root, annotation_path, frames_per_clip, step_between_clips, frame_rate, fold, train, transform, _precomputed_metadata, num_workers, _video_width, _video_height, _video_min_dimension, _audio_samples, output_format)\u001b[0m\n\u001b[1;32m     76\u001b[0m \u001b[39mself\u001b[39m\u001b[39m.\u001b[39mfold \u001b[39m=\u001b[39m fold\n\u001b[1;32m     77\u001b[0m \u001b[39mself\u001b[39m\u001b[39m.\u001b[39mtrain \u001b[39m=\u001b[39m train\n\u001b[0;32m---> 79\u001b[0m \u001b[39mself\u001b[39m\u001b[39m.\u001b[39mclasses, class_to_idx \u001b[39m=\u001b[39m find_classes(\u001b[39mself\u001b[39;49m\u001b[39m.\u001b[39;49mroot)\n\u001b[1;32m     80\u001b[0m \u001b[39mself\u001b[39m\u001b[39m.\u001b[39msamples \u001b[39m=\u001b[39m make_dataset(\u001b[39mself\u001b[39m\u001b[39m.\u001b[39mroot, class_to_idx, extensions, is_valid_file\u001b[39m=\u001b[39m\u001b[39mNone\u001b[39;00m)\n\u001b[1;32m     81\u001b[0m video_list \u001b[39m=\u001b[39m [x[\u001b[39m0\u001b[39m] \u001b[39mfor\u001b[39;00m x \u001b[39min\u001b[39;00m \u001b[39mself\u001b[39m\u001b[39m.\u001b[39msamples]\n",
      "File \u001b[0;32m~/miniconda3/envs/video/lib/python3.10/site-packages/torchvision/datasets/folder.py:40\u001b[0m, in \u001b[0;36mfind_classes\u001b[0;34m(directory)\u001b[0m\n\u001b[1;32m     35\u001b[0m \u001b[39mdef\u001b[39;00m \u001b[39mfind_classes\u001b[39m(directory: \u001b[39mstr\u001b[39m) \u001b[39m-\u001b[39m\u001b[39m>\u001b[39m Tuple[List[\u001b[39mstr\u001b[39m], Dict[\u001b[39mstr\u001b[39m, \u001b[39mint\u001b[39m]]:\n\u001b[1;32m     36\u001b[0m \u001b[39m    \u001b[39m\u001b[39m\"\"\"Finds the class folders in a dataset.\u001b[39;00m\n\u001b[1;32m     37\u001b[0m \n\u001b[1;32m     38\u001b[0m \u001b[39m    See :class:`DatasetFolder` for details.\u001b[39;00m\n\u001b[1;32m     39\u001b[0m \u001b[39m    \"\"\"\u001b[39;00m\n\u001b[0;32m---> 40\u001b[0m     classes \u001b[39m=\u001b[39m \u001b[39msorted\u001b[39m(entry\u001b[39m.\u001b[39mname \u001b[39mfor\u001b[39;00m entry \u001b[39min\u001b[39;00m os\u001b[39m.\u001b[39;49mscandir(directory) \u001b[39mif\u001b[39;00m entry\u001b[39m.\u001b[39mis_dir())\n\u001b[1;32m     41\u001b[0m     \u001b[39mif\u001b[39;00m \u001b[39mnot\u001b[39;00m classes:\n\u001b[1;32m     42\u001b[0m         \u001b[39mraise\u001b[39;00m \u001b[39mFileNotFoundError\u001b[39;00m(\u001b[39mf\u001b[39m\u001b[39m\"\u001b[39m\u001b[39mCouldn\u001b[39m\u001b[39m'\u001b[39m\u001b[39mt find any class folder in \u001b[39m\u001b[39m{\u001b[39;00mdirectory\u001b[39m}\u001b[39;00m\u001b[39m.\u001b[39m\u001b[39m\"\u001b[39m)\n",
      "\u001b[0;31mFileNotFoundError\u001b[0m: [Errno 2] No such file or directory: '../data/UCF101'"
     ]
    }
   ],
   "source": [
    "UCF101(root = '../data/UCF101', annotation_path = '../data/UCF101/ucfTrainTestlist', frames_per_clip = 16 )"
   ]
  },
  {
   "cell_type": "code",
   "execution_count": 10,
   "id": "997e8e34-a92e-4318-a1ff-6e8cd836ce87",
   "metadata": {},
   "outputs": [],
   "source": [
    "train_df = pd.read_csv(\"./data/UCF101/ucfTrainTestlist/trainlist01.txt\",sep = \" \",header = None,names = ['path','class'])\n"
   ]
  },
  {
   "cell_type": "code",
   "execution_count": 13,
   "id": "6d39cb73-b3a8-4b5c-b42e-cbfbf56b4b58",
   "metadata": {
    "tags": []
   },
   "outputs": [],
   "source": []
  },
  {
   "cell_type": "code",
   "execution_count": null,
   "id": "ca02fde2-3bad-454d-91e3-f4589fb383d4",
   "metadata": {},
   "outputs": [],
   "source": []
  }
 ],
 "metadata": {
  "kernelspec": {
   "display_name": "video",
   "language": "python",
   "name": "python3"
  },
  "language_info": {
   "name": "python",
   "version": "3.10.9"
  },
  "vscode": {
   "interpreter": {
    "hash": "6d4f518b780b633f0f3d9f847dc5085115311d6bf896253d91f66f222504f13a"
   }
  }
 },
 "nbformat": 4,
 "nbformat_minor": 5
}
