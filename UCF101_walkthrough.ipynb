{
 "cells": [
  {
   "cell_type": "markdown",
   "id": "cd779e04-a3f4-4151-9895-4d71171758ec",
   "metadata": {},
   "source": [
    "# Human Motion Prediction"
   ]
  },
  {
   "cell_type": "markdown",
   "id": "e70fe1b9-5088-4ff2-82f0-a44774b0c335",
   "metadata": {},
   "source": [
    "Source: \n",
    "https://www.kaggle.com/code/harikishantk/human-motion-prediction-with-cnn-lstm-model"
   ]
  },
  {
   "cell_type": "code",
   "execution_count": 4,
   "id": "2451eac9-1218-41b9-8266-3bf4d091f635",
   "metadata": {
    "tags": []
   },
   "outputs": [],
   "source": [
    "import numpy as np\n",
    "import pandas as pd\n",
    "import os\n",
    "import matplotlib.pyplot as plt\n",
    "\n",
    "from tqdm import tqdm\n",
    "import cv2\n",
    "from sklearn.model_selection import train_test_split\n",
    "from sklearn.metrics import accuracy_score, confusion_matrix\n",
    "\n",
    "import itertools\n",
    "\n",
    "from torchvision.datasets import UCF101\n",
    "\n",
    "\n",
    "os.environ['TF_CPP_MIN_LOG_LEVEL'] = '3'\n"
   ]
  },
  {
   "cell_type": "code",
   "execution_count": 17,
   "id": "585dab43-f964-4e16-b7ad-24e642a8d897",
   "metadata": {
    "tags": []
   },
   "outputs": [
    {
     "ename": "TypeError",
     "evalue": "UCF101.__init__() missing 3 required positional arguments: 'root', 'annotation_path', and 'frames_per_clip'",
     "output_type": "error",
     "traceback": [
      "\u001b[0;31m---------------------------------------------------------------------------\u001b[0m",
      "\u001b[0;31mTypeError\u001b[0m                                 Traceback (most recent call last)",
      "Cell \u001b[0;32mIn[17], line 1\u001b[0m\n\u001b[0;32m----> 1\u001b[0m \u001b[43mUCF101\u001b[49m\u001b[43m(\u001b[49m\u001b[43m)\u001b[49m\n",
      "\u001b[0;31mTypeError\u001b[0m: UCF101.__init__() missing 3 required positional arguments: 'root', 'annotation_path', and 'frames_per_clip'"
     ]
    }
   ],
   "source": [
    "UCF101(root = )"
   ]
  },
  {
   "cell_type": "code",
   "execution_count": 10,
   "id": "997e8e34-a92e-4318-a1ff-6e8cd836ce87",
   "metadata": {},
   "outputs": [],
   "source": [
    "train_df = pd.read_csv(\"./data/UCF101/ucfTrainTestlist/trainlist01.txt\",sep = \" \",header = None,names = ['path','class'])\n"
   ]
  },
  {
   "cell_type": "code",
   "execution_count": 13,
   "id": "6d39cb73-b3a8-4b5c-b42e-cbfbf56b4b58",
   "metadata": {
    "tags": []
   },
   "outputs": [],
   "source": []
  },
  {
   "cell_type": "code",
   "execution_count": null,
   "id": "ca02fde2-3bad-454d-91e3-f4589fb383d4",
   "metadata": {},
   "outputs": [],
   "source": []
  }
 ],
 "metadata": {
  "kernelspec": {
   "display_name": "video",
   "language": "python",
   "name": "video"
  },
  "language_info": {
   "codemirror_mode": {
    "name": "ipython",
    "version": 3
   },
   "file_extension": ".py",
   "mimetype": "text/x-python",
   "name": "python",
   "nbconvert_exporter": "python",
   "pygments_lexer": "ipython3",
   "version": "3.10.9"
  }
 },
 "nbformat": 4,
 "nbformat_minor": 5
}
