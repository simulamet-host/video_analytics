{
 "cells": [
  {
   "cell_type": "code",
   "execution_count": 1,
   "id": "4a72025e-9fcb-4afb-817a-4e108c5db2bf",
   "metadata": {},
   "outputs": [],
   "source": [
    "%load_ext autoreload\n",
    "%autoreload 2"
   ]
  },
  {
   "cell_type": "code",
   "execution_count": 20,
   "id": "80c2e05e-5152-47f8-ad69-899cfb7f7e13",
   "metadata": {},
   "outputs": [],
   "source": [
    "import argparse\n",
    "import torchvision.datasets as Datasets\n",
    "import torchvision.transforms as transforms\n",
    "from torch.utils.data import Dataset\n",
    "from tqdm import tqdm as tqdm_regular\n",
    "from video_analysis import image_preprocessing\n",
    "import matplotlib.pyplot as plt\n",
    "import cv2\n",
    "from sklearn.model_selection import train_test_split\n",
    "import numpy as np\n",
    "from video_analysis import conv_autoencoder "
   ]
  },
  {
   "cell_type": "code",
   "execution_count": 31,
   "id": "896ccbf2-a373-4aca-83c3-723a3abc0ece",
   "metadata": {},
   "outputs": [],
   "source": [
    "class CustomDataset(Dataset):\n",
    "    def __init__(self, data, transforms=None):\n",
    "        self.data = data\n",
    "        self.transforms = transforms\n",
    "    def __len__(self):\n",
    "        return len(self.data)\n",
    "    def __getitem__(self, idx):\n",
    "        image = self.data[idx]\n",
    "        if self.transforms!=None:\n",
    "            image = self.transforms(image)\n",
    "        return image"
   ]
  },
  {
   "cell_type": "code",
   "execution_count": 32,
   "id": "b2833c1d-c925-4bcf-9245-992e4ae9e980",
   "metadata": {},
   "outputs": [],
   "source": [
    "dataset_name = \"CIFAR10\""
   ]
  },
  {
   "cell_type": "code",
   "execution_count": 33,
   "id": "ce63bd4e-14a9-4aa5-906e-c291f9e8ea71",
   "metadata": {},
   "outputs": [
    {
     "name": "stdout",
     "output_type": "stream",
     "text": [
      "Extracting features from  CIFAR10\n"
     ]
    }
   ],
   "source": [
    "\n",
    "print('Extracting features from ',  dataset_name)"
   ]
  },
  {
   "cell_type": "code",
   "execution_count": 73,
   "id": "ad86b848-dd4d-4975-8956-06e377e831bd",
   "metadata": {},
   "outputs": [
    {
     "name": "stdout",
     "output_type": "stream",
     "text": [
      "Files already downloaded and verified\n",
      "Files already downloaded and verified\n"
     ]
    }
   ],
   "source": [
    "if dataset_name == \"CIFAR10\":\n",
    "    training_set = Datasets.CIFAR10(root='../data/', download=True,\n",
    "                                transform=transforms.ToTensor())\n",
    "    test_set = Datasets.CIFAR10(root='../data/', download=True, train=False,\n",
    "                                transform=transforms.ToTensor())\n",
    "    #  extracting training images\n",
    "    training_images = [x for x in training_set.data]\n",
    "    #  extracting validation images\n",
    "    test_images = [x for x in validation_set.data]\n",
    "    \n",
    "    #  creating pytorch datasets\n",
    "    training_data = CustomDataset(training_images, transforms=transforms.Compose([transforms.ToTensor(),\n",
    "                                                                        transforms.Normalize((0.5, 0.5, 0.5), (0.5, 0.5, 0.5))]))\n",
    "    test_data = CustomDataset(test_images, transforms=transforms.Compose([transforms.ToTensor(), transforms.Normalize((0.5, 0.5, 0.5), (0.5, 0.5, 0.5))]))\n",
    "                       "
   ]
  },
  {
   "cell_type": "code",
   "execution_count": 74,
   "id": "e32471d9-cabd-40c2-8f07-910464f7b0c1",
   "metadata": {},
   "outputs": [
    {
     "data": {
      "text/plain": [
       "<matplotlib.image.AxesImage at 0x7f87deafaf80>"
      ]
     },
     "execution_count": 74,
     "metadata": {},
     "output_type": "execute_result"
    },
    {
     "data": {
      "image/png": "[encoded data removed]",
      "text/plain": [
       "<Figure size 640x480 with 1 Axes>"
      ]
     },
     "metadata": {},
     "output_type": "display_data"
    }
   ],
   "source": [
    "plt.imshow(training_images[1])"
   ]
  },
  {
   "cell_type": "code",
   "execution_count": 84,
   "id": "45b20cad-b737-4b65-bc43-1b96cb7b3154",
   "metadata": {},
   "outputs": [],
   "source": [
    "model = conv_autoencoder.ConvolutionalAutoencoder(conv_autoencoder.Autoencoder(conv_autoencoder.Encoder(), conv_autoencoder.Decoder()))\n"
   ]
  },
  {
   "cell_type": "code",
   "execution_count": 86,
   "id": "20d10e6f-8f3a-4b1f-84dc-882ca26a7348",
   "metadata": {},
   "outputs": [
    {
     "name": "stdout",
     "output_type": "stream",
     "text": [
      "Running on the CPU\n"
     ]
    },
    {
     "ename": "AttributeError",
     "evalue": "'ConvolutionalAutoencoder' object has no attribute 'summary'",
     "output_type": "error",
     "traceback": [
      "\u001b[0;31m---------------------------------------------------------------------------\u001b[0m",
      "\u001b[0;31mAttributeError\u001b[0m                            Traceback (most recent call last)",
      "Cell \u001b[0;32mIn[86], line 1\u001b[0m\n\u001b[0;32m----> 1\u001b[0m \u001b[43mmodel\u001b[49m\u001b[38;5;241;43m.\u001b[39;49m\u001b[43msummary\u001b[49m()\n",
      "File \u001b[0;32m~/opt/anaconda3/envs/video/lib/python3.10/site-packages/torch/nn/modules/module.py:1269\u001b[0m, in \u001b[0;36mModule.__getattr__\u001b[0;34m(self, name)\u001b[0m\n\u001b[1;32m   1267\u001b[0m     \u001b[38;5;28;01mif\u001b[39;00m name \u001b[38;5;129;01min\u001b[39;00m modules:\n\u001b[1;32m   1268\u001b[0m         \u001b[38;5;28;01mreturn\u001b[39;00m modules[name]\n\u001b[0;32m-> 1269\u001b[0m \u001b[38;5;28;01mraise\u001b[39;00m \u001b[38;5;167;01mAttributeError\u001b[39;00m(\u001b[38;5;124m\"\u001b[39m\u001b[38;5;124m'\u001b[39m\u001b[38;5;132;01m{}\u001b[39;00m\u001b[38;5;124m'\u001b[39m\u001b[38;5;124m object has no attribute \u001b[39m\u001b[38;5;124m'\u001b[39m\u001b[38;5;132;01m{}\u001b[39;00m\u001b[38;5;124m'\u001b[39m\u001b[38;5;124m\"\u001b[39m\u001b[38;5;241m.\u001b[39mformat(\n\u001b[1;32m   1270\u001b[0m     \u001b[38;5;28mtype\u001b[39m(\u001b[38;5;28mself\u001b[39m)\u001b[38;5;241m.\u001b[39m\u001b[38;5;18m__name__\u001b[39m, name))\n",
      "\u001b[0;31mAttributeError\u001b[0m: 'ConvolutionalAutoencoder' object has no attribute 'summary'"
     ]
    }
   ],
   "source": [
    "model.summary()"
   ]
  },
  {
   "cell_type": "code",
   "execution_count": null,
   "id": "197017ff-4579-447b-a9c6-d9e9aaeaf927",
   "metadata": {},
   "outputs": [],
   "source": []
  }
 ],
 "metadata": {
  "kernelspec": {
   "display_name": "video",
   "language": "python",
   "name": "video"
  },
  "language_info": {
   "codemirror_mode": {
    "name": "ipython",
    "version": 3
   },
   "file_extension": ".py",
   "mimetype": "text/x-python",
   "name": "python",
   "nbconvert_exporter": "python",
   "pygments_lexer": "ipython3",
   "version": "3.10.8"
  }
 },
 "nbformat": 4,
 "nbformat_minor": 5
}
